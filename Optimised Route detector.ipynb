{
 "cells": [
  {
   "cell_type": "code",
   "execution_count": null,
   "id": "23faae40",
   "metadata": {},
   "outputs": [],
   "source": []
  },
  {
   "cell_type": "code",
   "execution_count": null,
   "id": "071db7ab",
   "metadata": {},
   "outputs": [
    {
     "name": "stdout",
     "output_type": "stream",
     "text": [
      "Recognized:\n",
      "+--------------+------------------+--------------+----------------+-------------+-------------+\n",
      "|     Name     |      Email       |    Phone     |   Occupation   | Blood Group |   Address   |\n",
      "+--------------+------------------+--------------+----------------+-------------+-------------+\n",
      "| Naveen Kumar | naveen@gmail.com | 123-456-7897 | Data Scientist |     O+ve    | Gandhipuram |\n",
      "+--------------+------------------+--------------+----------------+-------------+-------------+\n"
     ]
    },
    {
     "name": "stderr",
     "output_type": "stream",
     "text": [
      "Exception in thread Thread-6 (announce_details):\n",
      "Traceback (most recent call last):\n",
      "  File \"C:\\Users\\admin\\anaconda3\\Lib\\threading.py\", line 1038, in _bootstrap_inner\n",
      "    self.run()\n",
      "  File \"C:\\Users\\admin\\anaconda3\\Lib\\threading.py\", line 975, in run\n",
      "    self._target(*self._args, **self._kwargs)\n",
      "  File \"C:\\Users\\admin\\AppData\\Local\\Temp\\ipykernel_1804\\4020759906.py\", line 14, in announce_details\n",
      "  File \"C:\\Users\\admin\\anaconda3\\Lib\\site-packages\\pyttsx3\\engine.py\", line 180, in runAndWait\n",
      "    raise RuntimeError('run loop already started')\n",
      "RuntimeError: run loop already started\n"
     ]
    },
    {
     "name": "stdout",
     "output_type": "stream",
     "text": [
      "Recognized:\n",
      "+--------------+------------------+--------------+----------------+-------------+-------------+\n",
      "|     Name     |      Email       |    Phone     |   Occupation   | Blood Group |   Address   |\n",
      "+--------------+------------------+--------------+----------------+-------------+-------------+\n",
      "| Naveen Kumar | naveen@gmail.com | 123-456-7897 | Data Scientist |     O+ve    | Gandhipuram |\n",
      "+--------------+------------------+--------------+----------------+-------------+-------------+\n"
     ]
    },
    {
     "name": "stderr",
     "output_type": "stream",
     "text": [
      "Exception in thread Thread-7 (announce_details):\n",
      "Traceback (most recent call last):\n",
      "  File \"C:\\Users\\admin\\anaconda3\\Lib\\threading.py\", line 1038, in _bootstrap_inner\n",
      "    self.run()\n",
      "  File \"C:\\Users\\admin\\anaconda3\\Lib\\threading.py\", line 975, in run\n",
      "    self._target(*self._args, **self._kwargs)\n",
      "  File \"C:\\Users\\admin\\AppData\\Local\\Temp\\ipykernel_1804\\4020759906.py\", line 14, in announce_details\n",
      "  File \"C:\\Users\\admin\\anaconda3\\Lib\\site-packages\\pyttsx3\\engine.py\", line 180, in runAndWait\n",
      "    raise RuntimeError('run loop already started')\n",
      "RuntimeError: run loop already started\n"
     ]
    },
    {
     "name": "stdout",
     "output_type": "stream",
     "text": [
      "Recognized:\n",
      "+--------------+------------------+--------------+----------------+-------------+-------------+\n",
      "|     Name     |      Email       |    Phone     |   Occupation   | Blood Group |   Address   |\n",
      "+--------------+------------------+--------------+----------------+-------------+-------------+\n",
      "| Naveen Kumar | naveen@gmail.com | 123-456-7897 | Data Scientist |     O+ve    | Gandhipuram |\n",
      "+--------------+------------------+--------------+----------------+-------------+-------------+\n"
     ]
    },
    {
     "name": "stderr",
     "output_type": "stream",
     "text": [
      "Exception in thread Thread-8 (announce_details):\n",
      "Traceback (most recent call last):\n",
      "  File \"C:\\Users\\admin\\anaconda3\\Lib\\threading.py\", line 1038, in _bootstrap_inner\n",
      "    self.run()\n",
      "  File \"C:\\Users\\admin\\anaconda3\\Lib\\threading.py\", line 975, in run\n",
      "    self._target(*self._args, **self._kwargs)\n",
      "  File \"C:\\Users\\admin\\AppData\\Local\\Temp\\ipykernel_1804\\4020759906.py\", line 14, in announce_details\n",
      "  File \"C:\\Users\\admin\\anaconda3\\Lib\\site-packages\\pyttsx3\\engine.py\", line 180, in runAndWait\n",
      "    raise RuntimeError('run loop already started')\n",
      "RuntimeError: run loop already started\n"
     ]
    },
    {
     "name": "stdout",
     "output_type": "stream",
     "text": [
      "Recognized:\n",
      "+--------------+------------------+--------------+----------------+-------------+-------------+\n",
      "|     Name     |      Email       |    Phone     |   Occupation   | Blood Group |   Address   |\n",
      "+--------------+------------------+--------------+----------------+-------------+-------------+\n",
      "| Naveen Kumar | naveen@gmail.com | 123-456-7897 | Data Scientist |     O+ve    | Gandhipuram |\n",
      "+--------------+------------------+--------------+----------------+-------------+-------------+\n"
     ]
    },
    {
     "name": "stderr",
     "output_type": "stream",
     "text": [
      "Exception in thread Thread-9 (announce_details):\n",
      "Traceback (most recent call last):\n",
      "  File \"C:\\Users\\admin\\anaconda3\\Lib\\threading.py\", line 1038, in _bootstrap_inner\n",
      "    self.run()\n",
      "  File \"C:\\Users\\admin\\anaconda3\\Lib\\threading.py\", line 975, in run\n",
      "    self._target(*self._args, **self._kwargs)\n",
      "  File \"C:\\Users\\admin\\AppData\\Local\\Temp\\ipykernel_1804\\4020759906.py\", line 14, in announce_details\n",
      "  File \"C:\\Users\\admin\\anaconda3\\Lib\\site-packages\\pyttsx3\\engine.py\", line 180, in runAndWait\n",
      "    raise RuntimeError('run loop already started')\n",
      "RuntimeError: run loop already started\n"
     ]
    },
    {
     "name": "stdout",
     "output_type": "stream",
     "text": [
      "Recognized:\n",
      "+--------------+------------------+--------------+----------------+-------------+-------------+\n",
      "|     Name     |      Email       |    Phone     |   Occupation   | Blood Group |   Address   |\n",
      "+--------------+------------------+--------------+----------------+-------------+-------------+\n",
      "| Naveen Kumar | naveen@gmail.com | 123-456-7897 | Data Scientist |     O+ve    | Gandhipuram |\n",
      "+--------------+------------------+--------------+----------------+-------------+-------------+\n",
      "Recognized:\n",
      "+--------------+------------------+--------------+----------------+-------------+-------------+\n",
      "|     Name     |      Email       |    Phone     |   Occupation   | Blood Group |   Address   |\n",
      "+--------------+------------------+--------------+----------------+-------------+-------------+\n",
      "| Naveen Kumar | naveen@gmail.com | 123-456-7897 | Data Scientist |     O+ve    | Gandhipuram |\n",
      "+--------------+------------------+--------------+----------------+-------------+-------------+\n",
      "Recognized:\n",
      "+--------------+------------------+--------------+----------------+-------------+-------------+\n",
      "|     Name     |      Email       |    Phone     |   Occupation   | Blood Group |   Address   |\n",
      "+--------------+------------------+--------------+----------------+-------------+-------------+\n",
      "| Naveen Kumar | naveen@gmail.com | 123-456-7897 | Data Scientist |     O+ve    | Gandhipuram |\n",
      "+--------------+------------------+--------------+----------------+-------------+-------------+\n"
     ]
    },
    {
     "name": "stderr",
     "output_type": "stream",
     "text": [
      "Exception in thread Thread-12 (announce_details):\n",
      "Traceback (most recent call last):\n",
      "  File \"C:\\Users\\admin\\anaconda3\\Lib\\threading.py\", line 1038, in _bootstrap_inner\n",
      "    self.run()\n",
      "  File \"C:\\Users\\admin\\anaconda3\\Lib\\threading.py\", line 975, in run\n",
      "    self._target(*self._args, **self._kwargs)\n",
      "  File \"C:\\Users\\admin\\AppData\\Local\\Temp\\ipykernel_1804\\4020759906.py\", line 14, in announce_details\n",
      "  File \"C:\\Users\\admin\\anaconda3\\Lib\\site-packages\\pyttsx3\\engine.py\", line 180, in runAndWait\n",
      "    raise RuntimeError('run loop already started')\n",
      "RuntimeError: run loop already started\n"
     ]
    },
    {
     "name": "stdout",
     "output_type": "stream",
     "text": [
      "Recognized:\n",
      "+--------------+------------------+--------------+----------------+-------------+-------------+\n",
      "|     Name     |      Email       |    Phone     |   Occupation   | Blood Group |   Address   |\n",
      "+--------------+------------------+--------------+----------------+-------------+-------------+\n",
      "| Naveen Kumar | naveen@gmail.com | 123-456-7897 | Data Scientist |     O+ve    | Gandhipuram |\n",
      "+--------------+------------------+--------------+----------------+-------------+-------------+\n"
     ]
    },
    {
     "name": "stderr",
     "output_type": "stream",
     "text": [
      "Exception in thread Thread-13 (announce_details):\n",
      "Traceback (most recent call last):\n",
      "  File \"C:\\Users\\admin\\anaconda3\\Lib\\threading.py\", line 1038, in _bootstrap_inner\n",
      "    self.run()\n",
      "  File \"C:\\Users\\admin\\anaconda3\\Lib\\threading.py\", line 975, in run\n",
      "    self._target(*self._args, **self._kwargs)\n",
      "  File \"C:\\Users\\admin\\AppData\\Local\\Temp\\ipykernel_1804\\4020759906.py\", line 14, in announce_details\n",
      "  File \"C:\\Users\\admin\\anaconda3\\Lib\\site-packages\\pyttsx3\\engine.py\", line 180, in runAndWait\n",
      "    raise RuntimeError('run loop already started')\n",
      "RuntimeError: run loop already started\n"
     ]
    },
    {
     "name": "stdout",
     "output_type": "stream",
     "text": [
      "Recognized:\n",
      "+--------------+------------------+--------------+----------------+-------------+-------------+\n",
      "|     Name     |      Email       |    Phone     |   Occupation   | Blood Group |   Address   |\n",
      "+--------------+------------------+--------------+----------------+-------------+-------------+\n",
      "| Naveen Kumar | naveen@gmail.com | 123-456-7897 | Data Scientist |     O+ve    | Gandhipuram |\n",
      "+--------------+------------------+--------------+----------------+-------------+-------------+\n"
     ]
    },
    {
     "name": "stderr",
     "output_type": "stream",
     "text": [
      "Exception in thread Thread-14 (announce_details):\n",
      "Traceback (most recent call last):\n",
      "  File \"C:\\Users\\admin\\anaconda3\\Lib\\threading.py\", line 1038, in _bootstrap_inner\n",
      "    self.run()\n",
      "  File \"C:\\Users\\admin\\anaconda3\\Lib\\threading.py\", line 975, in run\n",
      "    self._target(*self._args, **self._kwargs)\n",
      "  File \"C:\\Users\\admin\\AppData\\Local\\Temp\\ipykernel_1804\\4020759906.py\", line 14, in announce_details\n",
      "  File \"C:\\Users\\admin\\anaconda3\\Lib\\site-packages\\pyttsx3\\engine.py\", line 180, in runAndWait\n",
      "    raise RuntimeError('run loop already started')\n",
      "RuntimeError: run loop already started\n"
     ]
    },
    {
     "name": "stdout",
     "output_type": "stream",
     "text": [
      "Recognized:\n",
      "+--------------+------------------+--------------+----------------+-------------+-------------+\n",
      "|     Name     |      Email       |    Phone     |   Occupation   | Blood Group |   Address   |\n",
      "+--------------+------------------+--------------+----------------+-------------+-------------+\n",
      "| Naveen Kumar | naveen@gmail.com | 123-456-7897 | Data Scientist |     O+ve    | Gandhipuram |\n",
      "+--------------+------------------+--------------+----------------+-------------+-------------+\n",
      "Recognized:\n",
      "+--------------+------------------+--------------+----------------+-------------+-------------+\n",
      "|     Name     |      Email       |    Phone     |   Occupation   | Blood Group |   Address   |\n",
      "+--------------+------------------+--------------+----------------+-------------+-------------+\n",
      "| Naveen Kumar | naveen@gmail.com | 123-456-7897 | Data Scientist |     O+ve    | Gandhipuram |\n",
      "+--------------+------------------+--------------+----------------+-------------+-------------+\n"
     ]
    },
    {
     "name": "stderr",
     "output_type": "stream",
     "text": [
      "Exception in thread Thread-16 (announce_details):\n",
      "Traceback (most recent call last):\n",
      "  File \"C:\\Users\\admin\\anaconda3\\Lib\\threading.py\", line 1038, in _bootstrap_inner\n",
      "    self.run()\n",
      "  File \"C:\\Users\\admin\\anaconda3\\Lib\\threading.py\", line 975, in run\n",
      "    self._target(*self._args, **self._kwargs)\n",
      "  File \"C:\\Users\\admin\\AppData\\Local\\Temp\\ipykernel_1804\\4020759906.py\", line 14, in announce_details\n",
      "  File \"C:\\Users\\admin\\anaconda3\\Lib\\site-packages\\pyttsx3\\engine.py\", line 180, in runAndWait\n",
      "    raise RuntimeError('run loop already started')\n",
      "RuntimeError: run loop already started\n"
     ]
    },
    {
     "name": "stdout",
     "output_type": "stream",
     "text": [
      "Recognized:\n",
      "+--------------+------------------+--------------+----------------+-------------+-------------+\n",
      "|     Name     |      Email       |    Phone     |   Occupation   | Blood Group |   Address   |\n",
      "+--------------+------------------+--------------+----------------+-------------+-------------+\n",
      "| Naveen Kumar | naveen@gmail.com | 123-456-7897 | Data Scientist |     O+ve    | Gandhipuram |\n",
      "+--------------+------------------+--------------+----------------+-------------+-------------+\n"
     ]
    },
    {
     "name": "stderr",
     "output_type": "stream",
     "text": [
      "Exception in thread Thread-17 (announce_details):\n",
      "Traceback (most recent call last):\n",
      "  File \"C:\\Users\\admin\\anaconda3\\Lib\\threading.py\", line 1038, in _bootstrap_inner\n",
      "    self.run()\n",
      "  File \"C:\\Users\\admin\\anaconda3\\Lib\\threading.py\", line 975, in run\n",
      "    self._target(*self._args, **self._kwargs)\n",
      "  File \"C:\\Users\\admin\\AppData\\Local\\Temp\\ipykernel_1804\\4020759906.py\", line 14, in announce_details\n",
      "  File \"C:\\Users\\admin\\anaconda3\\Lib\\site-packages\\pyttsx3\\engine.py\", line 180, in runAndWait\n",
      "    raise RuntimeError('run loop already started')\n",
      "RuntimeError: run loop already started\n"
     ]
    },
    {
     "name": "stdout",
     "output_type": "stream",
     "text": [
      "Recognized:\n",
      "+--------------+------------------+--------------+----------------+-------------+-------------+\n",
      "|     Name     |      Email       |    Phone     |   Occupation   | Blood Group |   Address   |\n",
      "+--------------+------------------+--------------+----------------+-------------+-------------+\n",
      "| Naveen Kumar | naveen@gmail.com | 123-456-7897 | Data Scientist |     O+ve    | Gandhipuram |\n",
      "+--------------+------------------+--------------+----------------+-------------+-------------+\n"
     ]
    },
    {
     "name": "stderr",
     "output_type": "stream",
     "text": [
      "Exception in thread Thread-18 (announce_details):\n",
      "Traceback (most recent call last):\n",
      "  File \"C:\\Users\\admin\\anaconda3\\Lib\\threading.py\", line 1038, in _bootstrap_inner\n",
      "    self.run()\n",
      "  File \"C:\\Users\\admin\\anaconda3\\Lib\\threading.py\", line 975, in run\n",
      "    self._target(*self._args, **self._kwargs)\n",
      "  File \"C:\\Users\\admin\\AppData\\Local\\Temp\\ipykernel_1804\\4020759906.py\", line 14, in announce_details\n",
      "  File \"C:\\Users\\admin\\anaconda3\\Lib\\site-packages\\pyttsx3\\engine.py\", line 180, in runAndWait\n",
      "    raise RuntimeError('run loop already started')\n",
      "RuntimeError: run loop already started\n"
     ]
    },
    {
     "name": "stdout",
     "output_type": "stream",
     "text": [
      "Recognized:\n",
      "+--------------+------------------+--------------+----------------+-------------+-------------+\n",
      "|     Name     |      Email       |    Phone     |   Occupation   | Blood Group |   Address   |\n",
      "+--------------+------------------+--------------+----------------+-------------+-------------+\n",
      "| Naveen Kumar | naveen@gmail.com | 123-456-7897 | Data Scientist |     O+ve    | Gandhipuram |\n",
      "+--------------+------------------+--------------+----------------+-------------+-------------+\n",
      "Recognized:\n",
      "+--------------+------------------+--------------+----------------+-------------+-------------+\n",
      "|     Name     |      Email       |    Phone     |   Occupation   | Blood Group |   Address   |\n",
      "+--------------+------------------+--------------+----------------+-------------+-------------+\n",
      "| Naveen Kumar | naveen@gmail.com | 123-456-7897 | Data Scientist |     O+ve    | Gandhipuram |\n",
      "+--------------+------------------+--------------+----------------+-------------+-------------+\n"
     ]
    },
    {
     "name": "stderr",
     "output_type": "stream",
     "text": [
      "Exception in thread Thread-20 (announce_details):\n",
      "Traceback (most recent call last):\n",
      "  File \"C:\\Users\\admin\\anaconda3\\Lib\\threading.py\", line 1038, in _bootstrap_inner\n",
      "    self.run()\n",
      "  File \"C:\\Users\\admin\\anaconda3\\Lib\\threading.py\", line 975, in run\n",
      "    self._target(*self._args, **self._kwargs)\n",
      "  File \"C:\\Users\\admin\\AppData\\Local\\Temp\\ipykernel_1804\\4020759906.py\", line 14, in announce_details\n",
      "  File \"C:\\Users\\admin\\anaconda3\\Lib\\site-packages\\pyttsx3\\engine.py\", line 180, in runAndWait\n",
      "    raise RuntimeError('run loop already started')\n",
      "RuntimeError: run loop already started\n"
     ]
    },
    {
     "name": "stdout",
     "output_type": "stream",
     "text": [
      "Recognized:\n",
      "+--------------+------------------+--------------+----------------+-------------+-------------+\n",
      "|     Name     |      Email       |    Phone     |   Occupation   | Blood Group |   Address   |\n",
      "+--------------+------------------+--------------+----------------+-------------+-------------+\n",
      "| Naveen Kumar | naveen@gmail.com | 123-456-7897 | Data Scientist |     O+ve    | Gandhipuram |\n",
      "+--------------+------------------+--------------+----------------+-------------+-------------+\n",
      "Recognized:\n",
      "+--------------+------------------+--------------+----------------+-------------+-------------+\n",
      "|     Name     |      Email       |    Phone     |   Occupation   | Blood Group |   Address   |\n",
      "+--------------+------------------+--------------+----------------+-------------+-------------+\n",
      "| Naveen Kumar | naveen@gmail.com | 123-456-7897 | Data Scientist |     O+ve    | Gandhipuram |\n",
      "+--------------+------------------+--------------+----------------+-------------+-------------+\n"
     ]
    },
    {
     "name": "stderr",
     "output_type": "stream",
     "text": [
      "Exception in thread Thread-22 (announce_details):\n",
      "Traceback (most recent call last):\n",
      "  File \"C:\\Users\\admin\\anaconda3\\Lib\\threading.py\", line 1038, in _bootstrap_inner\n",
      "    self.run()\n",
      "  File \"C:\\Users\\admin\\anaconda3\\Lib\\threading.py\", line 975, in run\n",
      "    self._target(*self._args, **self._kwargs)\n",
      "  File \"C:\\Users\\admin\\AppData\\Local\\Temp\\ipykernel_1804\\4020759906.py\", line 14, in announce_details\n",
      "  File \"C:\\Users\\admin\\anaconda3\\Lib\\site-packages\\pyttsx3\\engine.py\", line 180, in runAndWait\n",
      "    raise RuntimeError('run loop already started')\n",
      "RuntimeError: run loop already started\n"
     ]
    },
    {
     "name": "stdout",
     "output_type": "stream",
     "text": [
      "Recognized:\n",
      "+--------------+------------------+--------------+----------------+-------------+-------------+\n",
      "|     Name     |      Email       |    Phone     |   Occupation   | Blood Group |   Address   |\n",
      "+--------------+------------------+--------------+----------------+-------------+-------------+\n",
      "| Naveen Kumar | naveen@gmail.com | 123-456-7897 | Data Scientist |     O+ve    | Gandhipuram |\n",
      "+--------------+------------------+--------------+----------------+-------------+-------------+\n"
     ]
    },
    {
     "name": "stderr",
     "output_type": "stream",
     "text": [
      "Exception in thread Thread-23 (announce_details):\n",
      "Traceback (most recent call last):\n",
      "  File \"C:\\Users\\admin\\anaconda3\\Lib\\threading.py\", line 1038, in _bootstrap_inner\n",
      "    self.run()\n",
      "  File \"C:\\Users\\admin\\anaconda3\\Lib\\threading.py\", line 975, in run\n",
      "    self._target(*self._args, **self._kwargs)\n",
      "  File \"C:\\Users\\admin\\AppData\\Local\\Temp\\ipykernel_1804\\4020759906.py\", line 14, in announce_details\n",
      "  File \"C:\\Users\\admin\\anaconda3\\Lib\\site-packages\\pyttsx3\\engine.py\", line 180, in runAndWait\n",
      "    raise RuntimeError('run loop already started')\n",
      "RuntimeError: run loop already started\n"
     ]
    },
    {
     "name": "stdout",
     "output_type": "stream",
     "text": [
      "Recognized:\n",
      "+--------------+------------------+--------------+----------------+-------------+-------------+\n",
      "|     Name     |      Email       |    Phone     |   Occupation   | Blood Group |   Address   |\n",
      "+--------------+------------------+--------------+----------------+-------------+-------------+\n",
      "| Naveen Kumar | naveen@gmail.com | 123-456-7897 | Data Scientist |     O+ve    | Gandhipuram |\n",
      "+--------------+------------------+--------------+----------------+-------------+-------------+\n",
      "Recognized:\n",
      "+--------------+------------------+--------------+----------------+-------------+-------------+\n",
      "|     Name     |      Email       |    Phone     |   Occupation   | Blood Group |   Address   |\n",
      "+--------------+------------------+--------------+----------------+-------------+-------------+\n",
      "| Naveen Kumar | naveen@gmail.com | 123-456-7897 | Data Scientist |     O+ve    | Gandhipuram |\n",
      "+--------------+------------------+--------------+----------------+-------------+-------------+\n"
     ]
    },
    {
     "name": "stderr",
     "output_type": "stream",
     "text": [
      "Exception in thread Thread-25 (announce_details):\n",
      "Traceback (most recent call last):\n",
      "  File \"C:\\Users\\admin\\anaconda3\\Lib\\threading.py\", line 1038, in _bootstrap_inner\n",
      "    self.run()\n",
      "  File \"C:\\Users\\admin\\anaconda3\\Lib\\threading.py\", line 975, in run\n",
      "    self._target(*self._args, **self._kwargs)\n",
      "  File \"C:\\Users\\admin\\AppData\\Local\\Temp\\ipykernel_1804\\4020759906.py\", line 14, in announce_details\n",
      "  File \"C:\\Users\\admin\\anaconda3\\Lib\\site-packages\\pyttsx3\\engine.py\", line 180, in runAndWait\n",
      "    raise RuntimeError('run loop already started')\n",
      "RuntimeError: run loop already started\n"
     ]
    },
    {
     "name": "stdout",
     "output_type": "stream",
     "text": [
      "Recognized:\n",
      "+--------------+------------------+--------------+----------------+-------------+-------------+\n",
      "|     Name     |      Email       |    Phone     |   Occupation   | Blood Group |   Address   |\n",
      "+--------------+------------------+--------------+----------------+-------------+-------------+\n",
      "| Naveen Kumar | naveen@gmail.com | 123-456-7897 | Data Scientist |     O+ve    | Gandhipuram |\n",
      "+--------------+------------------+--------------+----------------+-------------+-------------+\n"
     ]
    },
    {
     "name": "stderr",
     "output_type": "stream",
     "text": [
      "Exception in thread Thread-26 (announce_details):\n",
      "Traceback (most recent call last):\n",
      "  File \"C:\\Users\\admin\\anaconda3\\Lib\\threading.py\", line 1038, in _bootstrap_inner\n",
      "    self.run()\n",
      "  File \"C:\\Users\\admin\\anaconda3\\Lib\\threading.py\", line 975, in run\n",
      "    self._target(*self._args, **self._kwargs)\n",
      "  File \"C:\\Users\\admin\\AppData\\Local\\Temp\\ipykernel_1804\\4020759906.py\", line 14, in announce_details\n",
      "  File \"C:\\Users\\admin\\anaconda3\\Lib\\site-packages\\pyttsx3\\engine.py\", line 180, in runAndWait\n",
      "    raise RuntimeError('run loop already started')\n",
      "RuntimeError: run loop already started\n"
     ]
    },
    {
     "name": "stdout",
     "output_type": "stream",
     "text": [
      "Recognized:\n",
      "+--------------+------------------+--------------+----------------+-------------+-------------+\n",
      "|     Name     |      Email       |    Phone     |   Occupation   | Blood Group |   Address   |\n",
      "+--------------+------------------+--------------+----------------+-------------+-------------+\n",
      "| Naveen Kumar | naveen@gmail.com | 123-456-7897 | Data Scientist |     O+ve    | Gandhipuram |\n",
      "+--------------+------------------+--------------+----------------+-------------+-------------+\n"
     ]
    },
    {
     "name": "stderr",
     "output_type": "stream",
     "text": [
      "Exception in thread Thread-27 (announce_details):\n",
      "Traceback (most recent call last):\n",
      "  File \"C:\\Users\\admin\\anaconda3\\Lib\\threading.py\", line 1038, in _bootstrap_inner\n",
      "    self.run()\n",
      "  File \"C:\\Users\\admin\\anaconda3\\Lib\\threading.py\", line 975, in run\n",
      "    self._target(*self._args, **self._kwargs)\n",
      "  File \"C:\\Users\\admin\\AppData\\Local\\Temp\\ipykernel_1804\\4020759906.py\", line 14, in announce_details\n",
      "  File \"C:\\Users\\admin\\anaconda3\\Lib\\site-packages\\pyttsx3\\engine.py\", line 180, in runAndWait\n",
      "    raise RuntimeError('run loop already started')\n",
      "RuntimeError: run loop already started\n"
     ]
    },
    {
     "name": "stdout",
     "output_type": "stream",
     "text": [
      "Recognized:\n",
      "+--------------+------------------+--------------+----------------+-------------+-------------+\n",
      "|     Name     |      Email       |    Phone     |   Occupation   | Blood Group |   Address   |\n",
      "+--------------+------------------+--------------+----------------+-------------+-------------+\n",
      "| Naveen Kumar | naveen@gmail.com | 123-456-7897 | Data Scientist |     O+ve    | Gandhipuram |\n",
      "+--------------+------------------+--------------+----------------+-------------+-------------+\n"
     ]
    },
    {
     "name": "stderr",
     "output_type": "stream",
     "text": [
      "Exception in thread Thread-28 (announce_details):\n",
      "Traceback (most recent call last):\n",
      "  File \"C:\\Users\\admin\\anaconda3\\Lib\\threading.py\", line 1038, in _bootstrap_inner\n",
      "    self.run()\n",
      "  File \"C:\\Users\\admin\\anaconda3\\Lib\\threading.py\", line 975, in run\n",
      "    self._target(*self._args, **self._kwargs)\n",
      "  File \"C:\\Users\\admin\\AppData\\Local\\Temp\\ipykernel_1804\\4020759906.py\", line 14, in announce_details\n",
      "  File \"C:\\Users\\admin\\anaconda3\\Lib\\site-packages\\pyttsx3\\engine.py\", line 180, in runAndWait\n",
      "    raise RuntimeError('run loop already started')\n",
      "RuntimeError: run loop already started\n"
     ]
    },
    {
     "name": "stdout",
     "output_type": "stream",
     "text": [
      "Recognized:\n",
      "+--------------+------------------+--------------+----------------+-------------+-------------+\n",
      "|     Name     |      Email       |    Phone     |   Occupation   | Blood Group |   Address   |\n",
      "+--------------+------------------+--------------+----------------+-------------+-------------+\n",
      "| Naveen Kumar | naveen@gmail.com | 123-456-7897 | Data Scientist |     O+ve    | Gandhipuram |\n",
      "+--------------+------------------+--------------+----------------+-------------+-------------+\n",
      "Recognized:\n",
      "+--------------+------------------+--------------+----------------+-------------+-------------+\n",
      "|     Name     |      Email       |    Phone     |   Occupation   | Blood Group |   Address   |\n",
      "+--------------+------------------+--------------+----------------+-------------+-------------+\n",
      "| Naveen Kumar | naveen@gmail.com | 123-456-7897 | Data Scientist |     O+ve    | Gandhipuram |\n",
      "+--------------+------------------+--------------+----------------+-------------+-------------+\n"
     ]
    },
    {
     "name": "stderr",
     "output_type": "stream",
     "text": [
      "Exception in thread Thread-30 (announce_details):\n",
      "Traceback (most recent call last):\n",
      "  File \"C:\\Users\\admin\\anaconda3\\Lib\\threading.py\", line 1038, in _bootstrap_inner\n",
      "    self.run()\n",
      "  File \"C:\\Users\\admin\\anaconda3\\Lib\\threading.py\", line 975, in run\n",
      "    self._target(*self._args, **self._kwargs)\n",
      "  File \"C:\\Users\\admin\\AppData\\Local\\Temp\\ipykernel_1804\\4020759906.py\", line 14, in announce_details\n",
      "  File \"C:\\Users\\admin\\anaconda3\\Lib\\site-packages\\pyttsx3\\engine.py\", line 180, in runAndWait\n",
      "    raise RuntimeError('run loop already started')\n",
      "RuntimeError: run loop already started\n"
     ]
    },
    {
     "name": "stdout",
     "output_type": "stream",
     "text": [
      "Recognized:\n",
      "+--------------+------------------+--------------+----------------+-------------+-------------+\n",
      "|     Name     |      Email       |    Phone     |   Occupation   | Blood Group |   Address   |\n",
      "+--------------+------------------+--------------+----------------+-------------+-------------+\n",
      "| Naveen Kumar | naveen@gmail.com | 123-456-7897 | Data Scientist |     O+ve    | Gandhipuram |\n",
      "+--------------+------------------+--------------+----------------+-------------+-------------+\n"
     ]
    },
    {
     "name": "stderr",
     "output_type": "stream",
     "text": [
      "Exception in thread Thread-31 (announce_details):\n",
      "Traceback (most recent call last):\n",
      "  File \"C:\\Users\\admin\\anaconda3\\Lib\\threading.py\", line 1038, in _bootstrap_inner\n",
      "    self.run()\n",
      "  File \"C:\\Users\\admin\\anaconda3\\Lib\\threading.py\", line 975, in run\n",
      "    self._target(*self._args, **self._kwargs)\n",
      "  File \"C:\\Users\\admin\\AppData\\Local\\Temp\\ipykernel_1804\\4020759906.py\", line 14, in announce_details\n",
      "  File \"C:\\Users\\admin\\anaconda3\\Lib\\site-packages\\pyttsx3\\engine.py\", line 180, in runAndWait\n",
      "    raise RuntimeError('run loop already started')\n",
      "RuntimeError: run loop already started\n"
     ]
    },
    {
     "name": "stdout",
     "output_type": "stream",
     "text": [
      "Recognized:\n",
      "+--------------+------------------+--------------+----------------+-------------+-------------+\n",
      "|     Name     |      Email       |    Phone     |   Occupation   | Blood Group |   Address   |\n",
      "+--------------+------------------+--------------+----------------+-------------+-------------+\n",
      "| Naveen Kumar | naveen@gmail.com | 123-456-7897 | Data Scientist |     O+ve    | Gandhipuram |\n",
      "+--------------+------------------+--------------+----------------+-------------+-------------+\n"
     ]
    },
    {
     "name": "stderr",
     "output_type": "stream",
     "text": [
      "Exception in thread Thread-32 (announce_details):\n",
      "Traceback (most recent call last):\n",
      "  File \"C:\\Users\\admin\\anaconda3\\Lib\\threading.py\", line 1038, in _bootstrap_inner\n",
      "    self.run()\n",
      "  File \"C:\\Users\\admin\\anaconda3\\Lib\\threading.py\", line 975, in run\n",
      "    self._target(*self._args, **self._kwargs)\n",
      "  File \"C:\\Users\\admin\\AppData\\Local\\Temp\\ipykernel_1804\\4020759906.py\", line 14, in announce_details\n",
      "  File \"C:\\Users\\admin\\anaconda3\\Lib\\site-packages\\pyttsx3\\engine.py\", line 180, in runAndWait\n",
      "    raise RuntimeError('run loop already started')\n",
      "RuntimeError: run loop already started\n"
     ]
    },
    {
     "name": "stdout",
     "output_type": "stream",
     "text": [
      "Recognized:\n",
      "+--------------+------------------+--------------+----------------+-------------+-------------+\n",
      "|     Name     |      Email       |    Phone     |   Occupation   | Blood Group |   Address   |\n",
      "+--------------+------------------+--------------+----------------+-------------+-------------+\n",
      "| Naveen Kumar | naveen@gmail.com | 123-456-7897 | Data Scientist |     O+ve    | Gandhipuram |\n",
      "+--------------+------------------+--------------+----------------+-------------+-------------+\n"
     ]
    },
    {
     "name": "stderr",
     "output_type": "stream",
     "text": [
      "Exception in thread Thread-33 (announce_details):\n",
      "Traceback (most recent call last):\n",
      "  File \"C:\\Users\\admin\\anaconda3\\Lib\\threading.py\", line 1038, in _bootstrap_inner\n",
      "    self.run()\n",
      "  File \"C:\\Users\\admin\\anaconda3\\Lib\\threading.py\", line 975, in run\n",
      "    self._target(*self._args, **self._kwargs)\n",
      "  File \"C:\\Users\\admin\\AppData\\Local\\Temp\\ipykernel_1804\\4020759906.py\", line 14, in announce_details\n",
      "  File \"C:\\Users\\admin\\anaconda3\\Lib\\site-packages\\pyttsx3\\engine.py\", line 180, in runAndWait\n",
      "    raise RuntimeError('run loop already started')\n",
      "RuntimeError: run loop already started\n"
     ]
    },
    {
     "name": "stdout",
     "output_type": "stream",
     "text": [
      "Recognized:\n",
      "+--------------+------------------+--------------+----------------+-------------+-------------+\n",
      "|     Name     |      Email       |    Phone     |   Occupation   | Blood Group |   Address   |\n",
      "+--------------+------------------+--------------+----------------+-------------+-------------+\n",
      "| Naveen Kumar | naveen@gmail.com | 123-456-7897 | Data Scientist |     O+ve    | Gandhipuram |\n",
      "+--------------+------------------+--------------+----------------+-------------+-------------+\n",
      "Recognized:\n",
      "+--------------+------------------+--------------+----------------+-------------+-------------+\n",
      "|     Name     |      Email       |    Phone     |   Occupation   | Blood Group |   Address   |\n",
      "+--------------+------------------+--------------+----------------+-------------+-------------+\n",
      "| Naveen Kumar | naveen@gmail.com | 123-456-7897 | Data Scientist |     O+ve    | Gandhipuram |\n",
      "+--------------+------------------+--------------+----------------+-------------+-------------+\n"
     ]
    },
    {
     "name": "stderr",
     "output_type": "stream",
     "text": [
      "Exception in thread Thread-35 (announce_details):\n",
      "Traceback (most recent call last):\n",
      "  File \"C:\\Users\\admin\\anaconda3\\Lib\\threading.py\", line 1038, in _bootstrap_inner\n",
      "    self.run()\n",
      "  File \"C:\\Users\\admin\\anaconda3\\Lib\\threading.py\", line 975, in run\n",
      "    self._target(*self._args, **self._kwargs)\n",
      "  File \"C:\\Users\\admin\\AppData\\Local\\Temp\\ipykernel_1804\\4020759906.py\", line 14, in announce_details\n",
      "  File \"C:\\Users\\admin\\anaconda3\\Lib\\site-packages\\pyttsx3\\engine.py\", line 180, in runAndWait\n",
      "    raise RuntimeError('run loop already started')\n",
      "RuntimeError: run loop already started\n"
     ]
    },
    {
     "name": "stdout",
     "output_type": "stream",
     "text": [
      "Recognized:\n",
      "+--------------+------------------+--------------+----------------+-------------+-------------+\n",
      "|     Name     |      Email       |    Phone     |   Occupation   | Blood Group |   Address   |\n",
      "+--------------+------------------+--------------+----------------+-------------+-------------+\n",
      "| Naveen Kumar | naveen@gmail.com | 123-456-7897 | Data Scientist |     O+ve    | Gandhipuram |\n",
      "+--------------+------------------+--------------+----------------+-------------+-------------+\n"
     ]
    },
    {
     "name": "stderr",
     "output_type": "stream",
     "text": [
      "Exception in thread Thread-36 (announce_details):\n",
      "Traceback (most recent call last):\n",
      "  File \"C:\\Users\\admin\\anaconda3\\Lib\\threading.py\", line 1038, in _bootstrap_inner\n",
      "    self.run()\n",
      "  File \"C:\\Users\\admin\\anaconda3\\Lib\\threading.py\", line 975, in run\n",
      "    self._target(*self._args, **self._kwargs)\n",
      "  File \"C:\\Users\\admin\\AppData\\Local\\Temp\\ipykernel_1804\\4020759906.py\", line 14, in announce_details\n",
      "  File \"C:\\Users\\admin\\anaconda3\\Lib\\site-packages\\pyttsx3\\engine.py\", line 180, in runAndWait\n",
      "    raise RuntimeError('run loop already started')\n",
      "RuntimeError: run loop already started\n"
     ]
    },
    {
     "name": "stdout",
     "output_type": "stream",
     "text": [
      "Recognized:\n",
      "+--------------+------------------+--------------+----------------+-------------+-------------+\n",
      "|     Name     |      Email       |    Phone     |   Occupation   | Blood Group |   Address   |\n",
      "+--------------+------------------+--------------+----------------+-------------+-------------+\n",
      "| Naveen Kumar | naveen@gmail.com | 123-456-7897 | Data Scientist |     O+ve    | Gandhipuram |\n",
      "+--------------+------------------+--------------+----------------+-------------+-------------+\n"
     ]
    },
    {
     "name": "stderr",
     "output_type": "stream",
     "text": [
      "Exception in thread Thread-37 (announce_details):\n",
      "Traceback (most recent call last):\n",
      "  File \"C:\\Users\\admin\\anaconda3\\Lib\\threading.py\", line 1038, in _bootstrap_inner\n",
      "    self.run()\n",
      "  File \"C:\\Users\\admin\\anaconda3\\Lib\\threading.py\", line 975, in run\n",
      "    self._target(*self._args, **self._kwargs)\n",
      "  File \"C:\\Users\\admin\\AppData\\Local\\Temp\\ipykernel_1804\\4020759906.py\", line 14, in announce_details\n",
      "  File \"C:\\Users\\admin\\anaconda3\\Lib\\site-packages\\pyttsx3\\engine.py\", line 180, in runAndWait\n",
      "    raise RuntimeError('run loop already started')\n",
      "RuntimeError: run loop already started\n"
     ]
    },
    {
     "name": "stdout",
     "output_type": "stream",
     "text": [
      "Recognized:\n",
      "+--------------+------------------+--------------+----------------+-------------+-------------+\n",
      "|     Name     |      Email       |    Phone     |   Occupation   | Blood Group |   Address   |\n",
      "+--------------+------------------+--------------+----------------+-------------+-------------+\n",
      "| Naveen Kumar | naveen@gmail.com | 123-456-7897 | Data Scientist |     O+ve    | Gandhipuram |\n",
      "+--------------+------------------+--------------+----------------+-------------+-------------+\n",
      "Recognized:\n",
      "+--------------+------------------+--------------+----------------+-------------+-------------+\n",
      "|     Name     |      Email       |    Phone     |   Occupation   | Blood Group |   Address   |\n",
      "+--------------+------------------+--------------+----------------+-------------+-------------+\n",
      "| Naveen Kumar | naveen@gmail.com | 123-456-7897 | Data Scientist |     O+ve    | Gandhipuram |\n",
      "+--------------+------------------+--------------+----------------+-------------+-------------+\n"
     ]
    },
    {
     "name": "stderr",
     "output_type": "stream",
     "text": [
      "Exception in thread Thread-39 (announce_details):\n",
      "Traceback (most recent call last):\n",
      "  File \"C:\\Users\\admin\\anaconda3\\Lib\\threading.py\", line 1038, in _bootstrap_inner\n",
      "    self.run()\n",
      "  File \"C:\\Users\\admin\\anaconda3\\Lib\\threading.py\", line 975, in run\n",
      "    self._target(*self._args, **self._kwargs)\n",
      "  File \"C:\\Users\\admin\\AppData\\Local\\Temp\\ipykernel_1804\\4020759906.py\", line 14, in announce_details\n",
      "  File \"C:\\Users\\admin\\anaconda3\\Lib\\site-packages\\pyttsx3\\engine.py\", line 180, in runAndWait\n",
      "    raise RuntimeError('run loop already started')\n",
      "RuntimeError: run loop already started\n"
     ]
    },
    {
     "name": "stdout",
     "output_type": "stream",
     "text": [
      "Recognized:\n",
      "+--------------+------------------+--------------+----------------+-------------+-------------+\n",
      "|     Name     |      Email       |    Phone     |   Occupation   | Blood Group |   Address   |\n",
      "+--------------+------------------+--------------+----------------+-------------+-------------+\n",
      "| Naveen Kumar | naveen@gmail.com | 123-456-7897 | Data Scientist |     O+ve    | Gandhipuram |\n",
      "+--------------+------------------+--------------+----------------+-------------+-------------+\n"
     ]
    }
   ],
   "source": []
  },
  {
   "cell_type": "markdown",
   "id": "ec135239",
   "metadata": {},
   "source": [
    "# Optimised route detector using AI"
   ]
  },
  {
   "cell_type": "code",
   "execution_count": null,
   "id": "825a0525",
   "metadata": {},
   "outputs": [
    {
     "name": "stdout",
     "output_type": "stream",
     "text": [
      "Recognized:\n",
      "+--------------+------------------+--------------+----------------+-------------+-------------+\n",
      "|     Name     |      Email       |    Phone     |   Occupation   | Blood Group |   Address   |\n",
      "+--------------+------------------+--------------+----------------+-------------+-------------+\n",
      "| Naveen Kumar | naveen@gmail.com | 123-456-7897 | Data Scientist |  O Positive | Gandhipuram |\n",
      "+--------------+------------------+--------------+----------------+-------------+-------------+\n",
      "Hospital Name: Kauvery Hospital\n",
      "Address: Trichy Road, Trichy\n",
      "Blood Group: O Positive\n",
      "Availability: 75%\n"
     ]
    },
    {
     "name": "stderr",
     "output_type": "stream",
     "text": [
      "Exception in thread Thread-6 (find_hospital):\n",
      "Traceback (most recent call last):\n",
      "  File \"C:\\Users\\admin\\anaconda3\\Lib\\threading.py\", line 1038, in _bootstrap_inner\n",
      "    self.run()\n",
      "  File \"C:\\Users\\admin\\anaconda3\\Lib\\threading.py\", line 975, in run\n",
      "    self._target(*self._args, **self._kwargs)\n",
      "  File \"C:\\Users\\admin\\AppData\\Local\\Temp\\ipykernel_36960\\701551099.py\", line 56, in find_hospital\n",
      "  File \"C:\\Users\\admin\\anaconda3\\Lib\\site-packages\\pyttsx3\\engine.py\", line 180, in runAndWait\n",
      "    raise RuntimeError('run loop already started')\n",
      "RuntimeError: run loop already started\n"
     ]
    },
    {
     "name": "stdout",
     "output_type": "stream",
     "text": [
      "Recognized:\n",
      "+--------------+------------------+--------------+----------------+-------------+-------------+\n",
      "|     Name     |      Email       |    Phone     |   Occupation   | Blood Group |   Address   |\n",
      "+--------------+------------------+--------------+----------------+-------------+-------------+\n",
      "| Naveen Kumar | naveen@gmail.com | 123-456-7897 | Data Scientist |  O Positive | Gandhipuram |\n",
      "+--------------+------------------+--------------+----------------+-------------+-------------+\n",
      "Hospital Name: Kauvery Hospital\n",
      "Address: Trichy Road, Trichy\n",
      "Blood Group: O Positive\n",
      "Availability: 75%\n"
     ]
    },
    {
     "name": "stderr",
     "output_type": "stream",
     "text": [
      "Exception in thread Thread-7 (find_hospital):\n",
      "Traceback (most recent call last):\n",
      "  File \"C:\\Users\\admin\\anaconda3\\Lib\\threading.py\", line 1038, in _bootstrap_inner\n",
      "    self.run()\n",
      "  File \"C:\\Users\\admin\\anaconda3\\Lib\\threading.py\", line 975, in run\n",
      "    self._target(*self._args, **self._kwargs)\n",
      "  File \"C:\\Users\\admin\\AppData\\Local\\Temp\\ipykernel_36960\\701551099.py\", line 56, in find_hospital\n",
      "  File \"C:\\Users\\admin\\anaconda3\\Lib\\site-packages\\pyttsx3\\engine.py\", line 180, in runAndWait\n",
      "    raise RuntimeError('run loop already started')\n",
      "RuntimeError: run loop already started\n"
     ]
    },
    {
     "name": "stdout",
     "output_type": "stream",
     "text": [
      "Recognized:\n",
      "+--------------+------------------+--------------+----------------+-------------+-------------+\n",
      "|     Name     |      Email       |    Phone     |   Occupation   | Blood Group |   Address   |\n",
      "+--------------+------------------+--------------+----------------+-------------+-------------+\n",
      "| Naveen Kumar | naveen@gmail.com | 123-456-7897 | Data Scientist |  O Positive | Gandhipuram |\n",
      "+--------------+------------------+--------------+----------------+-------------+-------------+\n",
      "Hospital Name: Kauvery Hospital\n",
      "Address: Trichy Road, Trichy\n",
      "Blood Group: O Positive\n",
      "Availability: 75%\n"
     ]
    },
    {
     "name": "stderr",
     "output_type": "stream",
     "text": [
      "Exception in thread Thread-8 (find_hospital):\n",
      "Traceback (most recent call last):\n",
      "  File \"C:\\Users\\admin\\anaconda3\\Lib\\threading.py\", line 1038, in _bootstrap_inner\n",
      "    self.run()\n",
      "  File \"C:\\Users\\admin\\anaconda3\\Lib\\threading.py\", line 975, in run\n",
      "    self._target(*self._args, **self._kwargs)\n",
      "  File \"C:\\Users\\admin\\AppData\\Local\\Temp\\ipykernel_36960\\701551099.py\", line 56, in find_hospital\n",
      "  File \"C:\\Users\\admin\\anaconda3\\Lib\\site-packages\\pyttsx3\\engine.py\", line 180, in runAndWait\n",
      "    raise RuntimeError('run loop already started')\n",
      "RuntimeError: run loop already started\n"
     ]
    },
    {
     "name": "stdout",
     "output_type": "stream",
     "text": [
      "Recognized:\n",
      "+--------------+------------------+--------------+----------------+-------------+-------------+\n",
      "|     Name     |      Email       |    Phone     |   Occupation   | Blood Group |   Address   |\n",
      "+--------------+------------------+--------------+----------------+-------------+-------------+\n",
      "| Naveen Kumar | naveen@gmail.com | 123-456-7897 | Data Scientist |  O Positive | Gandhipuram |\n",
      "+--------------+------------------+--------------+----------------+-------------+-------------+\n",
      "Hospital Name: Kauvery Hospital\n",
      "Address: Trichy Road, Trichy\n",
      "Blood Group: O Positive\n",
      "Availability: 75%\n"
     ]
    },
    {
     "name": "stderr",
     "output_type": "stream",
     "text": [
      "Exception in thread Thread-9 (find_hospital):\n",
      "Traceback (most recent call last):\n",
      "  File \"C:\\Users\\admin\\anaconda3\\Lib\\threading.py\", line 1038, in _bootstrap_inner\n",
      "    self.run()\n",
      "  File \"C:\\Users\\admin\\anaconda3\\Lib\\threading.py\", line 975, in run\n",
      "    self._target(*self._args, **self._kwargs)\n",
      "  File \"C:\\Users\\admin\\AppData\\Local\\Temp\\ipykernel_36960\\701551099.py\", line 56, in find_hospital\n",
      "  File \"C:\\Users\\admin\\anaconda3\\Lib\\site-packages\\pyttsx3\\engine.py\", line 180, in runAndWait\n",
      "    raise RuntimeError('run loop already started')\n",
      "RuntimeError: run loop already started\n"
     ]
    },
    {
     "name": "stdout",
     "output_type": "stream",
     "text": [
      "Recognized:\n",
      "+--------------+------------------+--------------+----------------+-------------+-------------+\n",
      "|     Name     |      Email       |    Phone     |   Occupation   | Blood Group |   Address   |\n",
      "+--------------+------------------+--------------+----------------+-------------+-------------+\n",
      "| Naveen Kumar | naveen@gmail.com | 123-456-7897 | Data Scientist |  O Positive | Gandhipuram |\n",
      "+--------------+------------------+--------------+----------------+-------------+-------------+\n",
      "Hospital Name: Kauvery Hospital\n",
      "Address: Trichy Road, Trichy\n",
      "Blood Group: O Positive\n",
      "Availability: 75%\n"
     ]
    },
    {
     "name": "stderr",
     "output_type": "stream",
     "text": [
      "Exception in thread Thread-10 (find_hospital):\n",
      "Traceback (most recent call last):\n",
      "  File \"C:\\Users\\admin\\anaconda3\\Lib\\threading.py\", line 1038, in _bootstrap_inner\n",
      "    self.run()\n",
      "  File \"C:\\Users\\admin\\anaconda3\\Lib\\threading.py\", line 975, in run\n",
      "    self._target(*self._args, **self._kwargs)\n",
      "  File \"C:\\Users\\admin\\AppData\\Local\\Temp\\ipykernel_36960\\701551099.py\", line 56, in find_hospital\n",
      "  File \"C:\\Users\\admin\\anaconda3\\Lib\\site-packages\\pyttsx3\\engine.py\", line 180, in runAndWait\n",
      "    raise RuntimeError('run loop already started')\n",
      "RuntimeError: run loop already started\n"
     ]
    },
    {
     "name": "stdout",
     "output_type": "stream",
     "text": [
      "Recognized:\n",
      "+--------------+------------------+--------------+----------------+-------------+-------------+\n",
      "|     Name     |      Email       |    Phone     |   Occupation   | Blood Group |   Address   |\n",
      "+--------------+------------------+--------------+----------------+-------------+-------------+\n",
      "| Naveen Kumar | naveen@gmail.com | 123-456-7897 | Data Scientist |  O Positive | Gandhipuram |\n",
      "+--------------+------------------+--------------+----------------+-------------+-------------+\n",
      "Hospital Name: Kauvery Hospital\n",
      "Address: Trichy Road, Trichy\n",
      "Blood Group: O Positive\n",
      "Availability: 75%\n",
      "Opening Google Maps for directions to Kauvery Hospital...\n",
      "No match found\n",
      "Recognized:\n",
      "+-------+-----------------+--------------+------------+-------------+---------+\n",
      "|  Name |      Email      |    Phone     | Occupation | Blood Group | Address |\n",
      "+-------+-----------------+--------------+------------+-------------+---------+\n",
      "| Pandi | pandi@gmail.com | 999-777-5555 | Technician |  B Positive |  Sulur  |\n",
      "+-------+-----------------+--------------+------------+-------------+---------+\n",
      "Hospital Name: Sundaram Hospital\n",
      "Address: Thillai Nagar, Trichy\n",
      "Blood Group: B Positive\n",
      "Availability: 71%\n",
      "No match found\n"
     ]
    },
    {
     "name": "stderr",
     "output_type": "stream",
     "text": [
      "Exception in thread Thread-12 (find_hospital):\n",
      "Traceback (most recent call last):\n",
      "  File \"C:\\Users\\admin\\anaconda3\\Lib\\threading.py\", line 1038, in _bootstrap_inner\n",
      "    self.run()\n",
      "  File \"C:\\Users\\admin\\anaconda3\\Lib\\threading.py\", line 975, in run\n",
      "    self._target(*self._args, **self._kwargs)\n",
      "  File \"C:\\Users\\admin\\AppData\\Local\\Temp\\ipykernel_36960\\701551099.py\", line 56, in find_hospital\n",
      "  File \"C:\\Users\\admin\\anaconda3\\Lib\\site-packages\\pyttsx3\\engine.py\", line 180, in runAndWait\n",
      "    raise RuntimeError('run loop already started')\n",
      "RuntimeError: run loop already started\n"
     ]
    },
    {
     "name": "stdout",
     "output_type": "stream",
     "text": [
      "Recognized:\n",
      "+-------+-----------------+--------------+------------+-------------+---------+\n",
      "|  Name |      Email      |    Phone     | Occupation | Blood Group | Address |\n",
      "+-------+-----------------+--------------+------------+-------------+---------+\n",
      "| Pandi | pandi@gmail.com | 999-777-5555 | Technician |  B Positive |  Sulur  |\n",
      "+-------+-----------------+--------------+------------+-------------+---------+\n",
      "Hospital Name: Sundaram Hospital\n",
      "Address: Thillai Nagar, Trichy\n",
      "Blood Group: B Positive\n",
      "Availability: 71%\n"
     ]
    },
    {
     "name": "stderr",
     "output_type": "stream",
     "text": [
      "Exception in thread Thread-13 (find_hospital):\n",
      "Traceback (most recent call last):\n",
      "  File \"C:\\Users\\admin\\anaconda3\\Lib\\threading.py\", line 1038, in _bootstrap_inner\n",
      "    self.run()\n",
      "  File \"C:\\Users\\admin\\anaconda3\\Lib\\threading.py\", line 975, in run\n",
      "    self._target(*self._args, **self._kwargs)\n",
      "  File \"C:\\Users\\admin\\AppData\\Local\\Temp\\ipykernel_36960\\701551099.py\", line 56, in find_hospital\n",
      "  File \"C:\\Users\\admin\\anaconda3\\Lib\\site-packages\\pyttsx3\\engine.py\", line 180, in runAndWait\n",
      "    raise RuntimeError('run loop already started')\n",
      "RuntimeError: run loop already started\n"
     ]
    },
    {
     "name": "stdout",
     "output_type": "stream",
     "text": [
      "Recognized:\n",
      "+-------+-----------------+--------------+------------+-------------+---------+\n",
      "|  Name |      Email      |    Phone     | Occupation | Blood Group | Address |\n",
      "+-------+-----------------+--------------+------------+-------------+---------+\n",
      "| Pandi | pandi@gmail.com | 999-777-5555 | Technician |  B Positive |  Sulur  |\n",
      "+-------+-----------------+--------------+------------+-------------+---------+\n",
      "Hospital Name: Sundaram Hospital\n",
      "Address: Thillai Nagar, Trichy\n",
      "Blood Group: B Positive\n",
      "Availability: 71%\n"
     ]
    },
    {
     "name": "stderr",
     "output_type": "stream",
     "text": [
      "Exception in thread Thread-14 (find_hospital):\n",
      "Traceback (most recent call last):\n",
      "  File \"C:\\Users\\admin\\anaconda3\\Lib\\threading.py\", line 1038, in _bootstrap_inner\n",
      "    self.run()\n",
      "  File \"C:\\Users\\admin\\anaconda3\\Lib\\threading.py\", line 975, in run\n",
      "    self._target(*self._args, **self._kwargs)\n",
      "  File \"C:\\Users\\admin\\AppData\\Local\\Temp\\ipykernel_36960\\701551099.py\", line 56, in find_hospital\n",
      "  File \"C:\\Users\\admin\\anaconda3\\Lib\\site-packages\\pyttsx3\\engine.py\", line 180, in runAndWait\n",
      "    raise RuntimeError('run loop already started')\n",
      "RuntimeError: run loop already started\n"
     ]
    },
    {
     "name": "stdout",
     "output_type": "stream",
     "text": [
      "Recognized:\n",
      "+-------+-----------------+--------------+------------+-------------+---------+\n",
      "|  Name |      Email      |    Phone     | Occupation | Blood Group | Address |\n",
      "+-------+-----------------+--------------+------------+-------------+---------+\n",
      "| Pandi | pandi@gmail.com | 999-777-5555 | Technician |  B Positive |  Sulur  |\n",
      "+-------+-----------------+--------------+------------+-------------+---------+\n",
      "Hospital Name: Sundaram Hospital\n",
      "Address: Thillai Nagar, Trichy\n",
      "Blood Group: B Positive\n",
      "Availability: 71%\n",
      "No match found\n",
      "No match found\n",
      "Opening Google Maps for directions to Sundaram Hospital...\n",
      "No match found\n",
      "No match found\n",
      "No match found\n"
     ]
    }
   ],
   "source": [
    "import face_recognition\n",
    "import cv2\n",
    "import pyttsx3  # For text-to-speech\n",
    "import threading  # To run the camera and voice simultaneously\n",
    "import webbrowser  # To open Google Maps or browser for shortest route\n",
    "from prettytable import PrettyTable  # For displaying details in table format\n",
    "\n",
    "# Initialize pyttsx3 engine for text-to-speech\n",
    "engine = pyttsx3.init()\n",
    "\n",
    "# Hospital data (you can add more hospitals as needed)\n",
    "hospitals_data = [\n",
    "    {\n",
    "        \"hospital_name\": \"Kauvery Hospital\",\n",
    "        \"address\": \"Trichy Road, Trichy\",\n",
    "        \"blood_group\": \"O Positive\",\n",
    "        \"availability\": 75\n",
    "    },\n",
    "    {\n",
    "        \"hospital_name\": \"Apollo Hospital\",\n",
    "        \"address\": \"Chathiram Bus Stand, Trichy\",\n",
    "        \"blood_group\": \"A Positive\",\n",
    "        \"availability\": 60\n",
    "    },\n",
    "    {\n",
    "        \"hospital_name\": \"Maruthi Hospital\",\n",
    "        \"address\": \"Srirangam, Trichy\",\n",
    "        \"blood_group\": \"O Negative\",\n",
    "        \"availability\": 35\n",
    "    },\n",
    "    {\n",
    "        \"hospital_name\": \"Sundaram Hospital\",\n",
    "        \"address\": \"Thillai Nagar, Trichy\",\n",
    "        \"blood_group\": \"B Positive\",\n",
    "        \"availability\": 71\n",
    "    },\n",
    "    {\n",
    "        \"hospital_name\": \"Gevian Hospital\",\n",
    "        \"address\": \"Cantonment, Trichy\",\n",
    "        \"blood_group\": \"AB Positive\",\n",
    "        \"availability\": 57\n",
    "    }\n",
    "]\n",
    "\n",
    "# Function to find the hospital based on blood group\n",
    "def find_hospital(blood_group):\n",
    "    for hospital in hospitals_data:\n",
    "        if hospital[\"blood_group\"].lower() == blood_group.lower():\n",
    "            print(f\"Hospital Name: {hospital['hospital_name']}\")\n",
    "            print(f\"Address: {hospital['address']}\")\n",
    "            print(f\"Blood Group: {hospital['blood_group']}\")\n",
    "            print(f\"Availability: {hospital['availability']}%\")\n",
    "\n",
    "            # Announce the hospital details\n",
    "            engine.say(f\"The nearest hospital with blood group {blood_group} is {hospital['hospital_name']} located at {hospital['address']}.\")\n",
    "            engine.runAndWait()\n",
    "\n",
    "            # Show the shortest route to the hospital\n",
    "            show_shortest_route(hospital[\"hospital_name\"])\n",
    "            return\n",
    "\n",
    "    # If no match is found\n",
    "    print(\"Sorry, no hospital found with the specified blood group.\")\n",
    "    engine.say(\"Sorry, no hospital found with the specified blood group.\")\n",
    "    engine.runAndWait()\n",
    "\n",
    "# Function to open Google Maps for the shortest route to the hospital\n",
    "def show_shortest_route(hospital_name):\n",
    "    # URL for shortest route from current location (replace with dynamic location if needed)\n",
    "    google_maps_url = f\"https://www.google.com/maps/dir/?api=1&destination={hospital_name.replace(' ', '+')}&travelmode=driving\"\n",
    "    print(f\"Opening Google Maps for directions to {hospital_name}...\")\n",
    "    webbrowser.open(google_maps_url)\n",
    "\n",
    "# Dictionary to store personal details for each recognized person\n",
    "personal_details = {\n",
    "    \"Naveen Kumar\": {\n",
    "        \"Name\": \"Naveen Kumar\",\n",
    "        \"Email\": \"naveen@gmail.com\",\n",
    "        \"Phone\": \"123-456-7897\",\n",
    "        \"Occupation\": \"Data Scientist\",\n",
    "        \"Blood Group\": \"O Positive\",\n",
    "        \"Address\": \"Gandhipuram\"\n",
    "    },\n",
    "    \"Jana\": {\n",
    "        \"Name\": \"Jana\",\n",
    "        \"Email\": \"jana@gmail.com\",\n",
    "        \"Phone\": \"777-987-6543\",\n",
    "        \"Occupation\": \"Software developer\",\n",
    "        \"Blood Group\": \"B Positive\",\n",
    "        \"Address\": \"Palladam\"\n",
    "    },\n",
    "    \"Susin\": {\n",
    "        \"Name\": \"Susin\",\n",
    "        \"Email\": \"susin@gmail.com\",\n",
    "        \"Phone\": \"666-456-7890\",\n",
    "        \"Occupation\": \"Analyst\",\n",
    "        \"Blood Group\": \"AB Positive\",\n",
    "        \"Address\": \"Ukkadam\"\n",
    "    },\n",
    "    \"Latha\": {\n",
    "        \"Name\": \"Latha\",\n",
    "        \"Email\": \"latha@gmail.com\",\n",
    "        \"Phone\": \"555-123-4567\",\n",
    "        \"Occupation\": \"Teacher\",\n",
    "        \"Blood Group\": \"A Positive\",\n",
    "        \"Address\": \"Race Course\"\n",
    "    },\n",
    "    \"Harish\": {\n",
    "        \"Name\": \"Harish\",\n",
    "        \"Email\": \"harish@gmail.com\",\n",
    "        \"Phone\": \"888-999-1234\",\n",
    "        \"Occupation\": \"Engineer\",\n",
    "        \"Blood Group\": \"O Negative\",\n",
    "        \"Address\": \"Singanallur\"\n",
    "    },\n",
    "    \"Pandi\": {\n",
    "        \"Name\": \"Pandi\",\n",
    "        \"Email\": \"pandi@gmail.com\",\n",
    "        \"Phone\": \"999-777-5555\",\n",
    "        \"Occupation\": \"Technician\",\n",
    "        \"Blood Group\": \"B Positive\",\n",
    "        \"Address\": \"Sulur\"\n",
    "    },\n",
    "    \"Sabarish\": {\n",
    "        \"Name\": \"Sabarish\",\n",
    "        \"Email\": \"sabarish@gmail.com\",\n",
    "        \"Phone\": \"777-555-1234\",\n",
    "        \"Occupation\": \"Consultant\",\n",
    "        \"Blood Group\": \"A Negative\",\n",
    "        \"Address\": \"Peelamedu\"\n",
    "    }\n",
    "}\n",
    "\n",
    "# List to store face encodings and names\n",
    "known_face_encodings = []\n",
    "known_face_names = []\n",
    "\n",
    "# Function to load an image, get the encoding, and add to the list\n",
    "def load_known_face(image_path, name):\n",
    "    image = face_recognition.load_image_file(image_path)\n",
    "    encoding = face_recognition.face_encodings(image)[0]\n",
    "    known_face_encodings.append(encoding)\n",
    "    known_face_names.append(name)\n",
    "\n",
    "# Load the known images of the members\n",
    "load_known_face(r\"naveen.jpg.jpg\", \"Naveen Kumar\")\n",
    "load_known_face(r\"Jana.jpeg\", \"Jana\")\n",
    "load_known_face(r\"Susin.jpeg\", \"Susin\")\n",
    "load_known_face(r\"Latha.jpeg\", \"Latha\")\n",
    "load_known_face(r\"harish.jpeg\", \"Harish\")\n",
    "load_known_face(r\"pandi.jpeg\", \"Pandi\")\n",
    "load_known_face(r\"sabarish.jpeg\", \"Sabarish\")\n",
    "\n",
    "# Create a PrettyTable instance\n",
    "table = PrettyTable()\n",
    "table.field_names = [\"Name\", \"Email\", \"Phone\", \"Occupation\", \"Blood Group\", \"Address\"]  # Ensure consistency here\n",
    "\n",
    "# Initialize the webcam\n",
    "video_capture = cv2.VideoCapture(0)\n",
    "\n",
    "while True:\n",
    "    # Capture frame-by-frame\n",
    "    ret, frame = video_capture.read()\n",
    "\n",
    "    if not ret:\n",
    "        print(\"Failed to grab frame\")\n",
    "        break\n",
    "\n",
    "    # Convert the image from BGR (OpenCV) to RGB (face_recognition)\n",
    "    rgb_frame = cv2.cvtColor(frame, cv2.COLOR_BGR2RGB)\n",
    "\n",
    "    # Find all face locations and encodings in the current frame\n",
    "    face_locations = face_recognition.face_locations(rgb_frame)\n",
    "    face_encodings = face_recognition.face_encodings(rgb_frame, face_locations)\n",
    "\n",
    "    # Process each face found in the frame\n",
    "    for (top, right, bottom, left), face_encoding in zip(face_locations, face_encodings):\n",
    "        # Compare the detected face with all known faces\n",
    "        results = face_recognition.compare_faces(known_face_encodings, face_encoding)\n",
    "\n",
    "        if True in results:\n",
    "            match_index = results.index(True)\n",
    "            name = known_face_names[match_index]\n",
    "            details = personal_details.get(name)\n",
    "            \n",
    "            if details:\n",
    "                # Display the details on the screen\n",
    "                table.clear_rows()  # Clear previous results\n",
    "                table.add_row([details[\"Name\"], details[\"Email\"], details[\"Phone\"], details[\"Occupation\"], details[\"Blood Group\"], details[\"Address\"]])\n",
    "                \n",
    "                # Print the table with details\n",
    "                print(\"Recognized:\")\n",
    "                print(table)\n",
    "                \n",
    "                # Show the details on the frame\n",
    "                cv2.putText(frame, f\"Recognized: {name}\", (10, 30), cv2.FONT_HERSHEY_SIMPLEX, 1, (0, 255, 0), 2, cv2.LINE_AA)\n",
    "                cv2.rectangle(frame, (left, top), (right, bottom), (0, 255, 0), 2)\n",
    "\n",
    "                # Announce the person's name and message along with hospital info\n",
    "                announce_thread = threading.Thread(target=find_hospital, args=(details[\"Blood Group\"],))\n",
    "                announce_thread.start()\n",
    "\n",
    "            else:\n",
    "                print(\"No details found for the recognized person.\")\n",
    "        else:\n",
    "            print(\"No match found\")\n",
    "\n",
    "    # Display the resulting frame\n",
    "    cv2.imshow('Video', frame)\n",
    "\n",
    "    # Break the loop on 'q' key press\n",
    "    if cv2.waitKey(1) & 0xFF == ord('q'):\n",
    "        break\n",
    "\n",
    "# Release the webcam and close windows\n",
    "video_capture.release()\n",
    "cv2.destroyAllWindows()\n"
   ]
  },
  {
   "cell_type": "code",
   "execution_count": null,
   "id": "23578409",
   "metadata": {},
   "outputs": [],
   "source": []
  }
 ],
 "metadata": {
  "kernelspec": {
   "display_name": "Python 3 (ipykernel)",
   "language": "python",
   "name": "python3"
  },
  "language_info": {
   "codemirror_mode": {
    "name": "ipython",
    "version": 3
   },
   "file_extension": ".py",
   "mimetype": "text/x-python",
   "name": "python",
   "nbconvert_exporter": "python",
   "pygments_lexer": "ipython3",
   "version": "3.11.5"
  }
 },
 "nbformat": 4,
 "nbformat_minor": 5
}
